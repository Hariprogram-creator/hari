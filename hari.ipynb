{
 "cells": [
  {
   "cell_type": "code",
   "execution_count": 12,
   "id": "f44caca9-0a62-46e2-ac9a-f9c66229bbda",
   "metadata": {},
   "outputs": [
    {
     "name": "stdout",
     "output_type": "stream",
     "text": [
      "[['apple', 10], ['banana', 5], ['cherry', 9], ['dragon', 34], ['grapes', 9], ['apples', 20]]\n"
     ]
    }
   ],
   "source": [
    "orders = [['apple',10],['banana',5],['cherry',9],['dragon',43],['grapes',9],['apples',20]]\n",
    "for each in orders:\n",
    "    if each[0] == \"dragon\":\n",
    "        each[1] = 34\n",
    "        \n",
    "print(orders)"
   ]
  },
  {
   "cell_type": "code",
   "execution_count": 14,
   "id": "9a0432c3-6580-45da-acaf-dc47c7613fda",
   "metadata": {},
   "outputs": [
    {
     "name": "stdout",
     "output_type": "stream",
     "text": [
      "[['apple', 50], ['banana', 5], ['cherry', 9], ['dragon', 43], ['grapes', 9], ['apples', 20]]\n"
     ]
    }
   ],
   "source": [
    "orders = [['apple',10],['banana',5],['cherry',9],['dragon',43],['grapes',9],['apples',20]]\n",
    "for each in orders:\n",
    "    if each[0] == \"apple\":\n",
    "        each[1] = 50\n",
    "        \n",
    "print(orders)"
   ]
  },
  {
   "cell_type": "code",
   "execution_count": 5,
   "id": "cb2d1c6e-9e33-442a-849b-4e2579facb85",
   "metadata": {},
   "outputs": [
    {
     "name": "stdout",
     "output_type": "stream",
     "text": [
      "[['apple', 10], ['banana', 5], ['cherry', 9], ['dragon', 43], ['grapes', 9], ['apples', 20], ['apple', 15]]\n",
      "[10, 15]\n",
      "25\n"
     ]
    }
   ],
   "source": [
    "orders = [['apple',10],['banana',5],['cherry',9],['dragon',43],['grapes',9],['apples',20]]\n",
    "orders.append([\"apple\",15])\n",
    "print(orders)\n",
    "\n",
    "total = []\n",
    "for each_item in orders:\n",
    "    if each_item[0] == \"apple\":\n",
    "        total.append(each_item[1])\n",
    "print(total)\n",
    "print(sum(total))\n",
    "        "
   ]
  },
  {
   "cell_type": "code",
   "execution_count": 19,
   "id": "eeb5345f-6127-43d0-8c43-4cbfc5cce6d6",
   "metadata": {},
   "outputs": [
    {
     "name": "stdout",
     "output_type": "stream",
     "text": [
      "(4, 10, 9, 'A', 9, 81, False, (9-6j))\n",
      "<class 'tuple'>\n"
     ]
    }
   ],
   "source": [
    "tup1 = (4,10,9,\"A\",9,81,False,9-6j)\n",
    "print (tup1)\n",
    "print (type(tup1))"
   ]
  },
  {
   "cell_type": "code",
   "execution_count": 17,
   "id": "dd07660b-5098-4112-90a9-4be6359dd462",
   "metadata": {},
   "outputs": [
    {
     "data": {
      "text/plain": [
       "5"
      ]
     },
     "execution_count": 17,
     "metadata": {},
     "output_type": "execute_result"
    }
   ],
   "source": [
    "tup1.index(81) "
   ]
  },
  {
   "cell_type": "code",
   "execution_count": 25,
   "id": "c064f176-43ef-41e4-96c5-260c7c8ad30c",
   "metadata": {},
   "outputs": [
    {
     "data": {
      "text/plain": [
       "2"
      ]
     },
     "execution_count": 25,
     "metadata": {},
     "output_type": "execute_result"
    }
   ],
   "source": [
    "tup2 = (10,20,1,10,20,30,10)\n",
    "tup2.count(20)"
   ]
  },
  {
   "cell_type": "code",
   "execution_count": 17,
   "id": "53b84ace-efe4-4b51-bb26-391862034210",
   "metadata": {},
   "outputs": [
    {
     "data": {
      "text/plain": [
       "{'A': 10, 'B': 10, 'C': 10, 'D': 10}"
      ]
     },
     "execution_count": 17,
     "metadata": {},
     "output_type": "execute_result"
    }
   ],
   "source": [
    "list1 = [\"A\",\"B\",\"C\",\"D\"]\n",
    "my_dict = dict.fromkeys(list1,10)\n",
    "my_dict"
   ]
  },
  {
   "cell_type": "code",
   "execution_count": 25,
   "id": "0c0c2586-b650-41ba-8618-417fa16b8979",
   "metadata": {},
   "outputs": [
    {
     "data": {
      "text/plain": [
       "{'A': 30, 'B': 30, 'C': 30, 'D': 30}"
      ]
     },
     "execution_count": 25,
     "metadata": {},
     "output_type": "execute_result"
    }
   ],
   "source": [
    "list1 = [\"A\",\"B\",\"C\",\"D\"]\n",
    "my_dict = dict.fromkeys(list1,30)\n",
    "my_dict"
   ]
  },
  {
   "cell_type": "code",
   "execution_count": 1,
   "id": "f2daa95e-1b74-4368-9e65-78845c71d49d",
   "metadata": {},
   "outputs": [],
   "source": [
    "lst1 = [1,8,9,0,10,20,78,8,8,8]"
   ]
  },
  {
   "cell_type": "code",
   "execution_count": 3,
   "id": "a2b00edc-5bee-4dfd-a278-1e3da576555e",
   "metadata": {},
   "outputs": [
    {
     "name": "stdout",
     "output_type": "stream",
     "text": [
      "{0, 1, 8, 9, 10, 78, 20}\n",
      "<class 'set'>\n"
     ]
    }
   ],
   "source": [
    "s2 = set(lst1)\n",
    "print(s2)\n",
    "print(type(s2))"
   ]
  },
  {
   "cell_type": "code",
   "execution_count": 5,
   "id": "b8bb900c-3d60-443f-8b32-14b7401769ba",
   "metadata": {},
   "outputs": [
    {
     "data": {
      "text/plain": [
       "['__and__',\n",
       " '__class__',\n",
       " '__class_getitem__',\n",
       " '__contains__',\n",
       " '__delattr__',\n",
       " '__dir__',\n",
       " '__doc__',\n",
       " '__eq__',\n",
       " '__format__',\n",
       " '__ge__',\n",
       " '__getattribute__',\n",
       " '__getstate__',\n",
       " '__gt__',\n",
       " '__hash__',\n",
       " '__iand__',\n",
       " '__init__',\n",
       " '__init_subclass__',\n",
       " '__ior__',\n",
       " '__isub__',\n",
       " '__iter__',\n",
       " '__ixor__',\n",
       " '__le__',\n",
       " '__len__',\n",
       " '__lt__',\n",
       " '__ne__',\n",
       " '__new__',\n",
       " '__or__',\n",
       " '__rand__',\n",
       " '__reduce__',\n",
       " '__reduce_ex__',\n",
       " '__repr__',\n",
       " '__ror__',\n",
       " '__rsub__',\n",
       " '__rxor__',\n",
       " '__setattr__',\n",
       " '__sizeof__',\n",
       " '__str__',\n",
       " '__sub__',\n",
       " '__subclasshook__',\n",
       " '__xor__',\n",
       " 'add',\n",
       " 'clear',\n",
       " 'copy',\n",
       " 'difference',\n",
       " 'difference_update',\n",
       " 'discard',\n",
       " 'intersection',\n",
       " 'intersection_update',\n",
       " 'isdisjoint',\n",
       " 'issubset',\n",
       " 'issuperset',\n",
       " 'pop',\n",
       " 'remove',\n",
       " 'symmetric_difference',\n",
       " 'symmetric_difference_update',\n",
       " 'union',\n",
       " 'update']"
      ]
     },
     "execution_count": 5,
     "metadata": {},
     "output_type": "execute_result"
    }
   ],
   "source": [
    "dir(set)"
   ]
  },
  {
   "cell_type": "code",
   "execution_count": 7,
   "id": "5cbd4f22-528f-492c-afda-2eaa24c23981",
   "metadata": {},
   "outputs": [],
   "source": [
    "s1 = {1,2,3,4,5}\n",
    "s2 = {3,4,5,6,7}"
   ]
  },
  {
   "cell_type": "code",
   "execution_count": 9,
   "id": "4ddc2844-79a1-45bb-9d0d-9bb64076a3ea",
   "metadata": {},
   "outputs": [
    {
     "data": {
      "text/plain": [
       "{1, 2, 3, 4, 5, 6, 7}"
      ]
     },
     "execution_count": 9,
     "metadata": {},
     "output_type": "execute_result"
    }
   ],
   "source": [
    "s1|s2"
   ]
  },
  {
   "cell_type": "code",
   "execution_count": 11,
   "id": "8737efb0-375c-4fd1-8ea5-e734dfeedd8e",
   "metadata": {},
   "outputs": [
    {
     "data": {
      "text/plain": [
       "{3, 4, 5}"
      ]
     },
     "execution_count": 11,
     "metadata": {},
     "output_type": "execute_result"
    }
   ],
   "source": [
    "s1&s2"
   ]
  },
  {
   "cell_type": "code",
   "execution_count": 13,
   "id": "c227344f-34fc-43a8-9f16-c6c59f59e0b9",
   "metadata": {},
   "outputs": [
    {
     "data": {
      "text/plain": [
       "{1, 2}"
      ]
     },
     "execution_count": 13,
     "metadata": {},
     "output_type": "execute_result"
    }
   ],
   "source": [
    "s1-s2"
   ]
  },
  {
   "cell_type": "code",
   "execution_count": 15,
   "id": "6ab01974-2ed0-4a72-a39c-68273b3d9e30",
   "metadata": {},
   "outputs": [
    {
     "data": {
      "text/plain": [
       "{6, 7}"
      ]
     },
     "execution_count": 15,
     "metadata": {},
     "output_type": "execute_result"
    }
   ],
   "source": [
    "s2-s1"
   ]
  },
  {
   "cell_type": "code",
   "execution_count": 27,
   "id": "442e2f29-fbb0-4610-91e3-25fc34e91e96",
   "metadata": {},
   "outputs": [],
   "source": [
    "s1={1,2,3,4,5,6}\n",
    "s2={4,5,6}"
   ]
  },
  {
   "cell_type": "code",
   "execution_count": 29,
   "id": "5adebd63-aeab-4095-90ad-b68d08ee4372",
   "metadata": {},
   "outputs": [
    {
     "data": {
      "text/plain": [
       "True"
      ]
     },
     "execution_count": 29,
     "metadata": {},
     "output_type": "execute_result"
    }
   ],
   "source": [
    "s2.issubset(s1)"
   ]
  },
  {
   "cell_type": "code",
   "execution_count": 31,
   "id": "6bed6ce9-5532-459a-bc49-8b3d33c3b88f",
   "metadata": {},
   "outputs": [
    {
     "data": {
      "text/plain": [
       "False"
      ]
     },
     "execution_count": 31,
     "metadata": {},
     "output_type": "execute_result"
    }
   ],
   "source": [
    "s2.issuperset(s1)"
   ]
  },
  {
   "cell_type": "code",
   "execution_count": 35,
   "id": "eb0a7ff4-476a-4f5d-9562-9ff5803a126f",
   "metadata": {},
   "outputs": [
    {
     "name": "stdout",
     "output_type": "stream",
     "text": [
      "Welcome to aiml class\n",
      "we started with python\n",
      "\"this is an awesome class\"\n"
     ]
    }
   ],
   "source": [
    "str1 = \"Welcome to aiml class\"\n",
    "print(str1)\n",
    "str2 = \"we started with python\"\n",
    "print(str2)\n",
    "str3 = '\"this is an awesome class\"'\n",
    "print(str3)"
   ]
  },
  {
   "cell_type": "code",
   "execution_count": 37,
   "id": "a6630694-973c-4ffd-b163-5a07c31d5826",
   "metadata": {},
   "outputs": [
    {
     "name": "stdout",
     "output_type": "stream",
     "text": [
      "<class 'str'>\n",
      "<class 'str'>\n",
      "<class 'str'>\n"
     ]
    }
   ],
   "source": [
    "print(type(str1))\n",
    "print(type(str2))\n",
    "print(type(str3))"
   ]
  },
  {
   "cell_type": "code",
   "execution_count": 45,
   "id": "205344e4-230e-4d67-80f7-13877baa2a45",
   "metadata": {},
   "outputs": [
    {
     "name": "stdout",
     "output_type": "stream",
     "text": [
      "Welcome to aiml class\n"
     ]
    },
    {
     "data": {
      "text/plain": [
       "'me to'"
      ]
     },
     "execution_count": 45,
     "metadata": {},
     "output_type": "execute_result"
    }
   ],
   "source": [
    "print(str1)\n",
    "str1[5:10]"
   ]
  },
  {
   "cell_type": "code",
   "execution_count": 47,
   "id": "9e720e2d-6133-4644-b3f3-6acdafa3c2ba",
   "metadata": {},
   "outputs": [
    {
     "data": {
      "text/plain": [
       "'The product is awesomeGreat Service'"
      ]
     },
     "execution_count": 47,
     "metadata": {},
     "output_type": "execute_result"
    }
   ],
   "source": [
    "reviews = [\"The product is awesome\" , \"Great Service\"]\n",
    "joined_string = ''.join(reviews)\n",
    "joined_string"
   ]
  },
  {
   "cell_type": "code",
   "execution_count": 51,
   "id": "8d9d96dc-038d-4347-9a71-ab9d8b67f59b",
   "metadata": {},
   "outputs": [
    {
     "data": {
      "text/plain": [
       "'hello,how are you?'"
      ]
     },
     "execution_count": 51,
     "metadata": {},
     "output_type": "execute_result"
    }
   ],
   "source": [
    "str5 = \"Hello,How are You?\"\n",
    "str5.lower()"
   ]
  },
  {
   "cell_type": "code",
   "execution_count": null,
   "id": "9e22b9e9-2ae7-45f4-9bd6-509acb5c66b4",
   "metadata": {},
   "outputs": [],
   "source": [
    "sales_data = {\n",
    "    \"ProductId\" : [101,102,103,104],\n",
    "    \"ProductName\" : [\"mouse\",\"keyboard\",\"printer\",\"monitor\"],\n",
    "    \"category\" : [\"elctronic\",\"electronic\",\"electronic\",\"electronic\"],\n",
    "    \n",
    "    "
   ]
  }
 ],
 "metadata": {
  "kernelspec": {
   "display_name": "Python [conda env:base] *",
   "language": "python",
   "name": "conda-base-py"
  },
  "language_info": {
   "codemirror_mode": {
    "name": "ipython",
    "version": 3
   },
   "file_extension": ".py",
   "mimetype": "text/x-python",
   "name": "python",
   "nbconvert_exporter": "python",
   "pygments_lexer": "ipython3",
   "version": "3.12.7"
  }
 },
 "nbformat": 4,
 "nbformat_minor": 5
}
